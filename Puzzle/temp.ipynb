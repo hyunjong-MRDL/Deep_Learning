{
 "cells": [
  {
   "cell_type": "code",
   "execution_count": 1,
   "metadata": {},
   "outputs": [],
   "source": [
    "import data\n",
    "import pandas as pd"
   ]
  },
  {
   "cell_type": "code",
   "execution_count": 2,
   "metadata": {},
   "outputs": [],
   "source": [
    "# pandas.DataFrame.loc :\n",
    "    # location -> DataFrame의 행/열에 label로 접근\n",
    "    # 인간이 읽을 수 있는 label값으로 접근 (0~N) 0부터 시작, N까지 하고 끝\n",
    "    # df.loc[row-indexing values, column-indexing values]\n",
    "# pandas.DataFrame.iloc :\n",
    "    # integer location -> 컴퓨터가 인식할 수 있는 \"index\"로 접근\n",
    "    # (0~N): 0부터 시작, N-1까지 하고 끝\n",
    "    # df.iloc[row-indexing keys, column-indexing keys]"
   ]
  },
  {
   "cell_type": "code",
   "execution_count": 3,
   "metadata": {},
   "outputs": [],
   "source": [
    "root = \"D:/Datasets/Puzzle/\"\n",
    "\n",
    "train_Dpath = data.data_path(root, train=True)\n",
    "test_Dpath = data.data_path(root, train=False)\n",
    "\n",
    "train_Lpath = data.label_path(root, train=True)\n",
    "test_Lpath = data.label_path(root, train=True)"
   ]
  },
  {
   "cell_type": "code",
   "execution_count": 4,
   "metadata": {},
   "outputs": [],
   "source": [
    "train_label = data.read_label(train_Lpath)\n",
    "test_label = data.read_label(test_Lpath)"
   ]
  },
  {
   "cell_type": "code",
   "execution_count": 6,
   "metadata": {},
   "outputs": [
    {
     "name": "stdout",
     "output_type": "stream",
     "text": [
      "70000\n",
      "70000\n"
     ]
    }
   ],
   "source": []
  }
 ],
 "metadata": {
  "kernelspec": {
   "display_name": "torch",
   "language": "python",
   "name": "python3"
  },
  "language_info": {
   "codemirror_mode": {
    "name": "ipython",
    "version": 3
   },
   "file_extension": ".py",
   "mimetype": "text/x-python",
   "name": "python",
   "nbconvert_exporter": "python",
   "pygments_lexer": "ipython3",
   "version": "3.11.8"
  }
 },
 "nbformat": 4,
 "nbformat_minor": 2
}
