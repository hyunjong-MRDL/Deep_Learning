{
 "cells": [
  {
   "cell_type": "code",
   "execution_count": 1,
   "metadata": {},
   "outputs": [],
   "source": [
    "import data, utils, processing, plot, metric\n",
    "import matplotlib.pyplot as plt\n",
    "import numpy as np\n",
    "\n",
    "root = \"E:/Deep_Learning/Respiration/\"\n",
    "\n",
    "data_root = f\"{root}DATA/\"\n",
    "plot_root = f\"{root}PLOT/\""
   ]
  },
  {
   "cell_type": "code",
   "execution_count": 5,
   "metadata": {},
   "outputs": [],
   "source": [
    "with open(f\"{root}sample.txt\", \"w\") as f:\n",
    "    patient_path, num_fx = data.patient_path(data_root, \"ARC\", \"Breathhold\")\n",
    "    patient_ID = patient_path.split(\"/\")[5].split(\"_\")[0]\n",
    "    total_reprod, total_stab = [], []\n",
    "    for fx in range(1, num_fx+1):\n",
    "        f.write(f\"\\t\\t\\t\\t=====Fraction{fx}=====\\n\\n\")\n",
    "        fraction_path, num_fld = data.fraction_path(patient_path, fx)\n",
    "        fx_reprods, fx_stabs = [], []\n",
    "        for field in range(1, num_fld+1):\n",
    "            f.write(f\"\\t\\t\\t\\t =====Field{field}=====\\n\")\n",
    "            data_Times, data_Amps = data.read_field_AP(fraction_path, field)\n",
    "            beam_Times, beam_Amps = data.read_field_beams(fraction_path, field)\n",
    "            dilated_beams = processing.dilate_beams(data_Times, beam_Times, beam_Amps)\n",
    "            cutted_amps = np.array(data_Amps) * np.array(dilated_beams)\n",
    "            enabled_intervals, num_intvs = processing.beam_enabling_intervals(data_Times, cutted_amps)\n",
    "            field_lvls, field_errors = [], []\n",
    "            for intv in range(num_intvs):\n",
    "                avg_lvl = metric.avg_lvl_per_interval(enabled_intervals[intv])\n",
    "                error = metric.error_per_interval(enabled_intervals[intv])\n",
    "                field_lvls.append(avg_lvl)\n",
    "                field_errors.append(error)\n",
    "                f.write(f\"[Interval{intv}] Average Level: {avg_lvl}\\tVertical Error: {error}\\n\")\n",
    "            reprod = metric.reprod_per_field(field_lvls)\n",
    "            stab = metric.stab_per_field(field_errors)\n",
    "            fx_reprods.append(reprod)\n",
    "            fx_stabs.append(stab)\n",
    "            f.write(f\"Reproducibility: {reprod}\\tStability: {stab}\\n\\n\")\n",
    "        mean_reprod = metric.mean_reprod_per_fraction(fx_reprods)\n",
    "        mean_stab = metric.mean_stab_per_fraction(fx_stabs)\n",
    "        total_reprod.append(mean_reprod)\n",
    "        total_stab.append(mean_stab)\n",
    "        f.write(f\"Mean Reproducibility: {mean_reprod}\\tMean Stability: {mean_stab}\\n\\n\\n\")"
   ]
  }
 ],
 "metadata": {
  "kernelspec": {
   "display_name": "torch",
   "language": "python",
   "name": "python3"
  },
  "language_info": {
   "codemirror_mode": {
    "name": "ipython",
    "version": 3
   },
   "file_extension": ".py",
   "mimetype": "text/x-python",
   "name": "python",
   "nbconvert_exporter": "python",
   "pygments_lexer": "ipython3",
   "version": "3.11.8"
  }
 },
 "nbformat": 4,
 "nbformat_minor": 2
}
