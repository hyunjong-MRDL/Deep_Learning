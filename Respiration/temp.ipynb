{
 "cells": [
  {
   "cell_type": "code",
   "execution_count": 1,
   "metadata": {},
   "outputs": [],
   "source": [
    "import os\n",
    "import matplotlib.pyplot as plt\n",
    "import numpy as np\n",
    "from scipy.fft import fft, fftshift\n",
    "\n",
    "def construct_total_dict(root):\n",
    "    breathhold_dict, full_dict = {}, {}\n",
    "    for data_type in os.listdir(root):\n",
    "        subpath = root + data_type + \"/\"\n",
    "        for patient_num in os.listdir(subpath):\n",
    "            patient_path = subpath + patient_num + \"/\"\n",
    "            patient_data = []\n",
    "            for data in os.listdir(patient_path):\n",
    "                data_path = patient_path + data\n",
    "                patient_data.append(data_path)\n",
    "            if \"FULL\" in data_type:\n",
    "                full_dict[patient_num] = patient_data\n",
    "            elif \"Breathhold\" in data_type:\n",
    "                breathhold_dict[patient_num] = patient_data\n",
    "    return breathhold_dict, full_dict\n",
    "\n",
    "root = './DATA/'\n",
    "\n",
    "breathhold_dict, full_dict = construct_total_dict(root)"
   ]
  },
  {
   "cell_type": "code",
   "execution_count": 2,
   "metadata": {},
   "outputs": [],
   "source": [
    "def createFolder(directory):\n",
    "    try:\n",
    "        if not os.path.exists(directory):\n",
    "            os.makedirs(directory)\n",
    "    except OSError:\n",
    "        print ('Error: Creating directory. ' +  directory)\n",
    "    return"
   ]
  },
  {
   "cell_type": "code",
   "execution_count": 3,
   "metadata": {},
   "outputs": [],
   "source": [
    "def extract_data(filepath):\n",
    "    time_list, amp_list = [], []\n",
    "    data_type = \"Breathhold\" if \"Breath\" in filepath else \"Full\"\n",
    "    anterior_count, start_flag = 0, False\n",
    "    with open(filepath, \"r\") as file:\n",
    "        for line in file:\n",
    "            if start_flag and (line == \"\\n\"): break\n",
    "            if start_flag:\n",
    "                time, amplitude = line.strip().split(\"\\t\")\n",
    "                time_list.append(float(time))\n",
    "                amp_list.append(float(amplitude))\n",
    "            elif \"Anterior-Posterior\" in line:\n",
    "                anterior_count += 1\n",
    "            if data_type == \"Breathhold\":\n",
    "                if (anterior_count > 1) and (\"Amplitude\" in line): start_flag = True\n",
    "            elif data_type == \"Full\":\n",
    "                if (anterior_count > 0) and (\"Amplitude\" in line): start_flag = True\n",
    "\n",
    "    return time_list, amp_list"
   ]
  },
  {
   "cell_type": "code",
   "execution_count": 4,
   "metadata": {},
   "outputs": [],
   "source": [
    "def extract_beam_moments(filepath):\n",
    "    time_list, state_list = [], []\n",
    "    beam_flag, start_flag = False, False\n",
    "    with open(filepath, \"r\") as file:\n",
    "        for line in file:\n",
    "            if (beam_flag and start_flag) and line == \"\\n\": break\n",
    "            elif (beam_flag and start_flag):\n",
    "                time, state = line.strip().split(\"\\t\")\n",
    "                time_list.append(float(time))\n",
    "                state_list.append(int(state))\n",
    "            elif \"Beam Enable/Disable Moments\" in line: beam_flag = True\n",
    "            elif beam_flag and (\"Enable\" in line): start_flag = True\n",
    "\n",
    "    return time_list, state_list"
   ]
  },
  {
   "cell_type": "code",
   "execution_count": 5,
   "metadata": {},
   "outputs": [],
   "source": [
    "def merge_data(dict, ID):\n",
    "    path_list = dict[ID]\n",
    "    merged_time, merged_amp = [], []\n",
    "    merged_beamtime, merged_state = [], []\n",
    "    for datapath in path_list:\n",
    "        period_of_prev_field = 0.0 if ( len(merged_time) == 0 ) else ( merged_time[-1] + 0.015 )\n",
    "        time, amplitude = extract_data(datapath)\n",
    "        beamtime, state = extract_beam_moments(datapath)\n",
    "        merged_time += [x + period_of_prev_field for x in time]\n",
    "        merged_amp += amplitude\n",
    "        merged_beamtime += [x + period_of_prev_field for x in beamtime]\n",
    "        merged_state += state\n",
    "\n",
    "    return merged_time, merged_amp, merged_beamtime, merged_state"
   ]
  },
  {
   "cell_type": "code",
   "execution_count": 6,
   "metadata": {},
   "outputs": [],
   "source": [
    "def split_beams(Time, Amp, Beams, States):\n",
    "    beam_ID = 1\n",
    "    time_dict, beam_dict = {}, {}\n",
    "    for state_index in range(len(States)-1):\n",
    "        curr_state = States[state_index]\n",
    "        curr_beamtime, next_beamtime = Beams[state_index], Beams[state_index+1]\n",
    "        if curr_state == 1:\n",
    "            curr_timelist, curr_beamlist = [], []\n",
    "            for amp_index in range(len(Amp)):\n",
    "                if (Time[amp_index] >= curr_beamtime) and (Time[amp_index] <= next_beamtime):\n",
    "                    curr_timelist.append(Time[amp_index])\n",
    "                    curr_beamlist.append(Amp[amp_index])\n",
    "        elif curr_state == 0:\n",
    "            time_dict[beam_ID] = curr_timelist\n",
    "            beam_dict[beam_ID] = curr_beamlist\n",
    "            beam_ID += 1\n",
    "    return time_dict, beam_dict"
   ]
  },
  {
   "cell_type": "code",
   "execution_count": 7,
   "metadata": {},
   "outputs": [],
   "source": [
    "def plot_time_series(Times, Amps):\n",
    "    fft_amp = fftshift(fft(np.array(Amps)))\n",
    "    N = len(Amps)\n",
    "    fs = 1/0.015\n",
    "    freqs = np.linspace(0, N-1, N) * (fs/N)\n",
    "    fig, ax = plt.subplots(1, 2, figsize=(14, 10))\n",
    "    ax[0].plot(Times, Amps)\n",
    "    ax[0].set_title(\"Time domain data\")\n",
    "    ax[0].set_xlabel(\"Time (s)\"), ax[0].set_ylabel(\"Amplitude (cm)\")\n",
    "    ax[1].plot(freqs, np.abs(fft_amp))\n",
    "    ax[1].set_title(\"Frequency domain data\")\n",
    "    ax[1].set_xlabel(\"Frequency (Hz)\"), ax[0].set_ylabel(\"Amplitude (cm)\")\n",
    "    plt.close()\n",
    "\n",
    "    return fig"
   ]
  }
 ],
 "metadata": {
  "kernelspec": {
   "display_name": "torch",
   "language": "python",
   "name": "python3"
  },
  "language_info": {
   "codemirror_mode": {
    "name": "ipython",
    "version": 3
   },
   "file_extension": ".py",
   "mimetype": "text/x-python",
   "name": "python",
   "nbconvert_exporter": "python",
   "pygments_lexer": "ipython3",
   "version": "3.11.8"
  }
 },
 "nbformat": 4,
 "nbformat_minor": 2
}
