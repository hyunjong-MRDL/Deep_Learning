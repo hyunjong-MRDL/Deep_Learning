{
 "cells": [
  {
   "cell_type": "code",
   "execution_count": 1,
   "metadata": {},
   "outputs": [],
   "source": [
    "import data, utils, processing, plot, metric\n",
    "import matplotlib.pyplot as plt\n",
    "import numpy as np\n",
    "\n",
    "root = \"E:/Deep_Learning/Respiration/\"\n",
    "\n",
    "data_root = f\"{root}DATA/\"\n",
    "plot_root = f\"{root}PLOT/\""
   ]
  },
  {
   "cell_type": "code",
   "execution_count": 2,
   "metadata": {},
   "outputs": [],
   "source": [
    "with open(f\"{root}sample.txt\", \"w\") as f:\n",
    "    patient_path, num_fx = data.patient_path(data_root, \"ARC\", \"Breathhold\")\n",
    "    patient_ID = patient_path.split(\"/\")[5].split(\"_\")[0]\n",
    "    RPD_per_fld, STB_per_fld = [], [] # Metric over entire session (each metric is calculated for each field)\n",
    "    RPD_per_fx, STB_per_fx = [], [] # Metric over entire session (each metric is calculated for each fraction)\n",
    "    for fx in range(1, num_fx+1):\n",
    "        print(f\"\\t\\t\\t\\t=====Fraction{fx}=====\\n\\n\")\n",
    "        fraction_path, num_fld = data.fraction_path(patient_path, fx)\n",
    "        rpds_per_fld, stbs_per_fld = [], [] # Reproducibility & Stability over each field -> [fld_rpd1, fld_rpd2, ...]\n",
    "        fx_lvls, fx_errors = [], [] # Avg_lvl & Vert_error for each fraction (over ALL fields) -> [avg_lvl1, avg_lvl2, ...]\n",
    "        for field in range(1, num_fld+1):\n",
    "            print(f\"\\t\\t\\t\\t =====Field{field}=====\\n\")\n",
    "            (data_Times, data_Amps), (beam_Times, beam_Amps) = data.read_field_data(fraction_path, field)\n",
    "            cutted_Amps = processing.cut_by_beams(data_Times, data_Amps, beam_Times)\n",
    "            enabled_intervals, num_intvs = processing.beam_enabling_intervals(data_Times, data_Amps, cutted_Amps)\n",
    "            field_lvls, field_errors = [], []\n",
    "            for intv in range(num_intvs):\n",
    "                avg_lvl = metric.avg_lvl_per_interval(enabled_intervals[intv]) * 10 # cm -> mm\n",
    "                error = metric.error_per_interval(enabled_intervals[intv]) * 10     # cm -> mm\n",
    "                field_lvls.append(avg_lvl)\n",
    "                field_errors.append(error)\n",
    "                fx_lvls.append(avg_lvl)\n",
    "                fx_errors.append(error)\n",
    "            fld_reprod = metric.reprod_per_field(field_lvls)\n",
    "            fld_stab = metric.stab_per_field(field_errors)\n",
    "            rpds_per_fld.append(fld_reprod)\n",
    "            stbs_per_fld.append(fld_stab)\n",
    "            print(f\"Reproducibility (mm): {fld_reprod}\\tStability (mm): {fld_stab}\\n\\n\")\n",
    "        fx_mean_reprod = metric.mean_reprod_per_fraction(rpds_per_fld)\n",
    "        fx_mean_stab = metric.mean_stab_per_fraction(stbs_per_fld)\n",
    "        fx_rpd = metric.reprod_per_field(fx_lvls)\n",
    "        fx_stb = metric.stab_per_field(fx_errors)\n",
    "        RPD_per_fld.append(fx_mean_reprod)\n",
    "        STB_per_fld.append(fx_mean_stab)\n",
    "        RPD_per_fx.append(fx_rpd)\n",
    "        STB_per_fx.append(fx_stb)\n",
    "        print(f\"Mean Reproducibility (mm): {fx_mean_reprod}\\tMean Stability (mm): {fx_mean_stab}\\n\")\n",
    "        print(f\"Fraction Reproducibility (mm): {fx_rpd}\\tFraction Stability (mm): {fx_stb}\\n\\n\\n\")\n",
    "    R2_RPD, R2_STB = metric.R_squared(RPD_per_fx), metric.R_squared(STB_per_fx)\n",
    "    CV_RPD, CV_STB = metric.coeff_var(RPD_per_fx), metric.coeff_var(STB_per_fx)\n",
    "    print(\"\\t\\t\\t\\t=====R-squared=====\")\n",
    "    print(f\"Reproducibility: {R2_RPD}\\tStability: {R2_STB}\\n\")\n",
    "    print(\"\\t\\t\\t\\t=====CV=====\")\n",
    "    print(f\"Reproducibility: {CV_RPD}\\tStability: {CV_STB}\\n\")"
   ]
  }
 ],
 "metadata": {
  "kernelspec": {
   "display_name": "torch",
   "language": "python",
   "name": "python3"
  },
  "language_info": {
   "codemirror_mode": {
    "name": "ipython",
    "version": 3
   },
   "file_extension": ".py",
   "mimetype": "text/x-python",
   "name": "python",
   "nbconvert_exporter": "python",
   "pygments_lexer": "ipython3",
   "version": "3.11.8"
  }
 },
 "nbformat": 4,
 "nbformat_minor": 2
}
