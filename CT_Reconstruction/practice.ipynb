{
 "cells": [
  {
   "cell_type": "code",
   "execution_count": 8,
   "metadata": {},
   "outputs": [],
   "source": [
    "import data, utils, processing, metrics\n",
    "from pydicom import dcmread"
   ]
  },
  {
   "cell_type": "code",
   "execution_count": 9,
   "metadata": {},
   "outputs": [
    {
     "name": "stdout",
     "output_type": "stream",
     "text": [
      "===Reference data===\n",
      "Aice_Breast\n",
      "\n",
      "===Comparative data===\n",
      "AIDR_Breast\n",
      "\n"
     ]
    }
   ],
   "source": [
    "root = \"D:/Datasets/CT_Recon/Breast/\"\n",
    "\n",
    "print(\"===Reference data===\")\n",
    "recon_1 = \"Aice\"\n",
    "seg_1 = \"Breast\"\n",
    "print(f\"{recon_1}_{seg_1}\")\n",
    "print()\n",
    "print(\"===Comparative data===\")\n",
    "recon_2 = \"AIDR\"\n",
    "seg_2 = \"Breast\"\n",
    "print(f\"{recon_2}_{seg_2}\")\n",
    "print()"
   ]
  },
  {
   "cell_type": "code",
   "execution_count": 11,
   "metadata": {},
   "outputs": [
    {
     "name": "stdout",
     "output_type": "stream",
     "text": [
      "Dataset.file_meta -------------------------------\n",
      "(0002,0000) File Meta Information Group Length  UL: 190\n",
      "(0002,0001) File Meta Information Version       OB: b'\\x00\\x01'\n",
      "(0002,0002) Media Storage SOP Class UID         UI: CT Image Storage\n",
      "(0002,0003) Media Storage SOP Instance UID      UI: 1.2.392.200036.9116.2.6.1.41014.3158072754.1733289719.911900\n",
      "(0002,0010) Transfer Syntax UID                 UI: Implicit VR Little Endian\n",
      "(0002,0012) Implementation Class UID            UI: 1.2.246.352.70.2.1.160.3\n",
      "(0002,0013) Implementation Version Name         SH: 'DCIE 2.2'\n",
      "-------------------------------------------------\n",
      "(0008,0005) Specific Character Set              CS: 'ISO_IR 192'\n",
      "(0008,0008) Image Type                          CS: ['DERIVED', 'PRIMARY', 'MPR']\n",
      "(0008,0012) Instance Creation Date              DA: '20241212'\n",
      "(0008,0013) Instance Creation Time              TM: '130636'\n",
      "(0008,0016) SOP Class UID                       UI: CT Image Storage\n",
      "(0008,0018) SOP Instance UID                    UI: 1.2.392.200036.9116.2.6.1.41014.3158072754.1733289719.911900\n",
      "(0008,0020) Study Date                          DA: '20241204'\n",
      "(0008,0021) Series Date                         DA: '20241204'\n",
      "(0008,0022) Acquisition Date                    DA: '20241204'\n",
      "(0008,0023) Content Date                        DA: '20241204'\n",
      "(0008,0030) Study Time                          TM: '141959'\n",
      "(0008,0031) Series Time                         TM: '142159.91'\n",
      "(0008,0032) Acquisition Time                    TM: '142107.347'\n",
      "(0008,0033) Content Time                        TM: '142200.303'\n",
      "(0008,0050) Accession Number                    SH: '2433800323'\n",
      "(0008,0060) Modality                            CS: 'CT'\n",
      "(0008,0070) Manufacturer                        LO: 'Canon Medical Systems'\n",
      "(0008,0080) Institution Name                    LO: 'YEUNGNAM UNIV. HOSP.'\n",
      "(0008,0081) Institution Address                 ST: 'HOSPITAL ADDRESS'\n",
      "(0008,0090) Referring Physician's Name          PN: ''\n",
      "(0008,1010) Station Name                        SH: 'ID_STATION'\n",
      "(0008,1030) Study Description                   LO: '[TR] Planning CT for Chest'\n",
      "(0008,103E) Series Description                  LO: 'Axial 5.000 MPR'\n",
      "(0008,1040) Institutional Department Name       LO: 'ID_DEPARTMENT'\n",
      "(0008,1070) Operators' Name                     PN: 'rtp4'\n",
      "(0008,1090) Manufacturer's Model Name           LO: 'Aquilion Exceed LB'\n",
      "(0010,0010) Patient's Name                      PN: '29333 KIM^YEONG JA'\n",
      "(0010,0020) Patient ID                          LO: '18928586'\n",
      "(0010,0030) Patient's Birth Date                DA: '19571202'\n",
      "(0010,0032) Patient's Birth Time                TM: '000000'\n",
      "(0010,0040) Patient's Sex                       CS: 'F'\n",
      "(0010,1000) Other Patient IDs                   LO: '29333'\n",
      "(0018,0022) Scan Options                        CS: 'HELICAL_CT'\n",
      "(0018,0050) Slice Thickness                     DS: '5'\n",
      "(0018,0060) KVP                                 DS: '120'\n",
      "(0018,0090) Data Collection Diameter            DS: '700'\n",
      "(0018,1000) Device Serial Number                LO: 'SERIALNO'\n",
      "(0018,1020) Software Versions                   LO: 'V10.180ER002'\n",
      "(0018,1100) Reconstruction Diameter             DS: '620.703'\n",
      "(0018,1110) Distance Source to Detector         DS: '1272.7'\n",
      "(0018,1120) Gantry/Detector Tilt                DS: '0'\n",
      "(0018,1130) Table Height                        DS: '127'\n",
      "(0018,1140) Rotation Direction                  CS: 'CW'\n",
      "(0018,1150) Exposure Time                       IS: '600'\n",
      "(0018,1151) X-Ray Tube Current                  IS: '317'\n",
      "(0018,1152) Exposure                            IS: '190'\n",
      "(0018,1160) Filter Type                         SH: 'LARGE'\n",
      "(0018,1170) Generator Power                     IS: '38'\n",
      "(0018,1190) Focal Spot(s)                       DS: '1.6'\n",
      "(0018,1210) Convolution Kernel                  SH: 'BODY_SHARP'\n",
      "(0018,5100) Patient Position                    CS: 'HFS'\n",
      "(0018,9345) CTDIvol                             FD: 11.8\n",
      "(0020,000D) Study Instance UID                  UI: 1.2.4.100000.94849.4239.32.2433800323\n",
      "(0020,000E) Series Instance UID                 UI: 1.2.392.200036.9116.2.6.1.41014.3158072754.1733289719.880597\n",
      "(0020,0010) Study ID                            SH: 'HA444-1G'\n",
      "(0020,0011) Series Number                       IS: '4'\n",
      "(0020,0012) Acquisition Number                  IS: '3'\n",
      "(0020,0013) Instance Number                     IS: '1'\n",
      "(0020,0032) Image Position (Patient)            DS: [-309.745, -309.74539, -1236.5]\n",
      "(0020,0037) Image Orientation (Patient)         DS: [1, 0, 0, 0, 1, 0]\n",
      "(0020,0052) Frame of Reference UID              UI: 1.2.392.200036.9116.2.6.1.41014.3158072754.1733289602.696513\n",
      "(0020,1040) Position Reference Indicator        LO: ''\n",
      "(0020,1041) Slice Location                      DS: '250'\n",
      "(0020,4000) Image Comments                      LT: 'Axial'\n",
      "(0028,0002) Samples per Pixel                   US: 1\n",
      "(0028,0004) Photometric Interpretation          CS: 'MONOCHROME2'\n",
      "(0028,0010) Rows                                US: 512\n",
      "(0028,0011) Columns                             US: 512\n",
      "(0028,0030) Pixel Spacing                       DS: [1.212, 1.212]\n",
      "(0028,0100) Bits Allocated                      US: 16\n",
      "(0028,0101) Bits Stored                         US: 16\n",
      "(0028,0102) High Bit                            US: 15\n",
      "(0028,0103) Pixel Representation                US: 1\n",
      "(0028,1050) Window Center                       DS: '60'\n",
      "(0028,1051) Window Width                        DS: '400'\n",
      "(0028,1052) Rescale Intercept                   DS: '-1000'\n",
      "(0028,1053) Rescale Slope                       DS: '1'\n",
      "(7FE0,0010) Pixel Data                          OW: Array of 524288 elements\n"
     ]
    }
   ],
   "source": [
    "CT_root1, CT_list1 = data.get_CT_path(root, 0, recon_1, seg_1)\n",
    "CT_root2, CT_list2 = data.get_CT_path(root, 0, recon_2, seg_2)\n",
    "\n",
    "ct_path1 = f\"{CT_root1}{CT_list1[0]}\"\n",
    "curr_CT1 = dcmread(ct_path1)\n",
    "print(curr_CT1)"
   ]
  },
  {
   "cell_type": "code",
   "execution_count": 17,
   "metadata": {},
   "outputs": [
    {
     "name": "stdout",
     "output_type": "stream",
     "text": [
      "1.2.392.200036.9116.2.6.1.41014.3158072754.1733289602.696513\n"
     ]
    }
   ],
   "source": [
    "print(curr_CT1.FrameOfReferenceUID)"
   ]
  },
  {
   "cell_type": "code",
   "execution_count": null,
   "metadata": {},
   "outputs": [
    {
     "name": "stdout",
     "output_type": "stream",
     "text": [
      "WARNING: ROI index (4) has no Contour Sequence.\n",
      "\n",
      "The common ROIs shared by two data are shown below:\n",
      "1: BODY\n",
      "2: Breast\n",
      "4: CTV(Tumor Bed)\n",
      "6: Liver\n",
      "12: ScarMarker\n",
      "13: SmallBowel\n",
      "14: SpinalCord\n",
      "21: BrachialP_R_AiCE\n",
      "22: CTV_SC\n",
      "23: CTV_RF\n",
      "24: CTV\n",
      "25: Lt.breast_AiCE\n",
      "26: both lung_AiCE\n",
      "\n"
     ]
    }
   ],
   "source": [
    "RT_path_1 = data.get_RT_path(root, 0, recon_1, seg_1)  # ID1_Aice_manual\n",
    "RT_path_2 = data.get_RT_path(root, 0, recon_2, seg_2)  # ID1_AIDR_manual\n",
    "\n",
    "RT_structures_1 = data.get_ROI_structures(RT_path_1)\n",
    "RT_contours_1 = data.get_ROI_contours(RT_path_1)\n",
    "\n",
    "RT_structures_2 = data.get_ROI_structures(RT_path_2)\n",
    "RT_contours_2 = data.get_ROI_contours(RT_path_2)\n",
    "\n",
    "total_contours_1 = data.get_contour_data(RT_contours_1)\n",
    "total_contours_2 = data.get_contour_data(RT_contours_2)\n",
    "\n",
    "roi_names_1 = utils.get_ROI_names(RT_path_1)\n",
    "roi_names_2 = utils.get_ROI_names(RT_path_2)\n",
    "\n",
    "matched_ROIs = utils.match_ROIs(roi_names_1, roi_names_2)\n",
    "utils.print_ROI_names(matched_ROIs)"
   ]
  },
  {
   "cell_type": "code",
   "execution_count": null,
   "metadata": {},
   "outputs": [
    {
     "name": "stdout",
     "output_type": "stream",
     "text": [
      "1800 1200\n"
     ]
    },
    {
     "ename": "IndexError",
     "evalue": "index -89099 is out of bounds for axis 0 with size 1800",
     "output_type": "error",
     "traceback": [
      "\u001b[1;31m---------------------------------------------------------------------------\u001b[0m",
      "\u001b[1;31mIndexError\u001b[0m                                Traceback (most recent call last)",
      "Cell \u001b[1;32mIn[4], line 6\u001b[0m\n\u001b[0;32m      3\u001b[0m \u001b[38;5;28mprint\u001b[39m(\u001b[38;5;28mint\u001b[39m(wx), \u001b[38;5;28mint\u001b[39m(wy))\n\u001b[0;32m      5\u001b[0m \u001b[38;5;28;01mimport\u001b[39;00m \u001b[38;5;21;01mmatplotlib\u001b[39;00m\u001b[38;5;21;01m.\u001b[39;00m\u001b[38;5;21;01mpyplot\u001b[39;00m \u001b[38;5;28;01mas\u001b[39;00m \u001b[38;5;21;01mplt\u001b[39;00m\n\u001b[1;32m----> 6\u001b[0m mapped_image \u001b[38;5;241m=\u001b[39m \u001b[43mprocessing\u001b[49m\u001b[38;5;241;43m.\u001b[39;49m\u001b[43mper_slice_mapping\u001b[49m\u001b[43m(\u001b[49m\u001b[43mtotal_contours_1\u001b[49m\u001b[43m[\u001b[49m\u001b[38;5;241;43m14\u001b[39;49m\u001b[43m]\u001b[49m\u001b[43m[\u001b[49m\u001b[38;5;241;43m0\u001b[39;49m\u001b[43m]\u001b[49m\u001b[43m,\u001b[49m\u001b[43m \u001b[49m\u001b[43m(\u001b[49m\u001b[38;5;28;43mint\u001b[39;49m\u001b[43m(\u001b[49m\u001b[43mwx\u001b[49m\u001b[43m)\u001b[49m\u001b[43m,\u001b[49m\u001b[43m \u001b[49m\u001b[38;5;28;43mint\u001b[39;49m\u001b[43m(\u001b[49m\u001b[43mwy\u001b[49m\u001b[43m)\u001b[49m\u001b[43m)\u001b[49m\u001b[43m,\u001b[49m\u001b[43m \u001b[49m\u001b[43m(\u001b[49m\u001b[38;5;28;43mint\u001b[39;49m\u001b[43m(\u001b[49m\u001b[43mwx\u001b[49m\u001b[38;5;241;43m/\u001b[39;49m\u001b[38;5;241;43m2\u001b[39;49m\u001b[43m)\u001b[49m\u001b[43m,\u001b[49m\u001b[43m \u001b[49m\u001b[38;5;28;43mint\u001b[39;49m\u001b[43m(\u001b[49m\u001b[43mwy\u001b[49m\u001b[38;5;241;43m/\u001b[39;49m\u001b[38;5;241;43m2\u001b[39;49m\u001b[43m)\u001b[49m\u001b[43m)\u001b[49m\u001b[43m,\u001b[49m\u001b[43m \u001b[49m\u001b[38;5;241;43m0.01\u001b[39;49m\u001b[43m)\u001b[49m\n\u001b[0;32m      7\u001b[0m plt\u001b[38;5;241m.\u001b[39mimshow(mapped_image)\n",
      "File \u001b[1;32mc:\\Users\\hyunj\\Downloads\\Deep_Learning\\CT_Reconstruction\\processing.py:32\u001b[0m, in \u001b[0;36mper_slice_mapping\u001b[1;34m(slice_data, w_size, center, spacing)\u001b[0m\n\u001b[0;32m     30\u001b[0m \u001b[38;5;28;01mfor\u001b[39;00m i \u001b[38;5;129;01min\u001b[39;00m \u001b[38;5;28mrange\u001b[39m(\u001b[38;5;28mlen\u001b[39m(x)):\n\u001b[0;32m     31\u001b[0m     x_pos, y_pos \u001b[38;5;241m=\u001b[39m \u001b[38;5;28mint\u001b[39m( (x[i] \u001b[38;5;241m-\u001b[39m center[\u001b[38;5;241m0\u001b[39m]) \u001b[38;5;241m/\u001b[39m spacing ), \u001b[38;5;28mint\u001b[39m( (y[i] \u001b[38;5;241m-\u001b[39m center[\u001b[38;5;241m1\u001b[39m]) \u001b[38;5;241m/\u001b[39m spacing )\n\u001b[1;32m---> 32\u001b[0m     \u001b[43mimage\u001b[49m\u001b[43m[\u001b[49m\u001b[43mx_pos\u001b[49m\u001b[43m,\u001b[49m\u001b[43m \u001b[49m\u001b[43my_pos\u001b[49m\u001b[43m]\u001b[49m \u001b[38;5;241m=\u001b[39m \u001b[38;5;241m1\u001b[39m\n\u001b[0;32m     33\u001b[0m \u001b[38;5;28;01mreturn\u001b[39;00m image\n",
      "\u001b[1;31mIndexError\u001b[0m: index -89099 is out of bounds for axis 0 with size 1800"
     ]
    }
   ],
   "source": [
    "wx_list, wy_list = processing.total_window_list(total_contours_1[14])\n",
    "wx, wy = processing.window_size(wx_list, wy_list, 0.01)\n",
    "print(int(wx), int(wy))\n",
    "\n",
    "import matplotlib.pyplot as plt\n",
    "mapped_image = processing.per_slice_mapping(total_contours_1[14][0], (int(wx), int(wy)), (int(wx/2), int(wy/2)), 0.01)\n",
    "plt.imshow(mapped_image)"
   ]
  }
 ],
 "metadata": {
  "kernelspec": {
   "display_name": "torch",
   "language": "python",
   "name": "python3"
  },
  "language_info": {
   "codemirror_mode": {
    "name": "ipython",
    "version": 3
   },
   "file_extension": ".py",
   "mimetype": "text/x-python",
   "name": "python",
   "nbconvert_exporter": "python",
   "pygments_lexer": "ipython3",
   "version": "3.11.8"
  }
 },
 "nbformat": 4,
 "nbformat_minor": 2
}
