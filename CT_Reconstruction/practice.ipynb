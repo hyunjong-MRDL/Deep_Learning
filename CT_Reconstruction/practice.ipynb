{
 "cells": [
  {
   "cell_type": "code",
   "execution_count": 1,
   "metadata": {},
   "outputs": [],
   "source": [
    "import data, utils, processing, metrics"
   ]
  },
  {
   "cell_type": "code",
   "execution_count": 2,
   "metadata": {},
   "outputs": [
    {
     "name": "stdout",
     "output_type": "stream",
     "text": [
      "===Reference data===\n",
      "Aice_Breast\n",
      "\n",
      "===Comparative data===\n",
      "AIDR_Breast\n",
      "\n"
     ]
    }
   ],
   "source": [
    "root = \"D:/Datasets/CT_Recon/Breast/\"\n",
    "\n",
    "print(\"===Reference data===\")\n",
    "recon_1 = \"Aice\"\n",
    "seg_1 = \"Breast\"\n",
    "print(f\"{recon_1}_{seg_1}\")\n",
    "print()\n",
    "print(\"===Comparative data===\")\n",
    "recon_2 = \"AIDR\"\n",
    "seg_2 = \"Breast\"\n",
    "print(f\"{recon_2}_{seg_2}\")\n",
    "print()"
   ]
  },
  {
   "cell_type": "code",
   "execution_count": 3,
   "metadata": {},
   "outputs": [
    {
     "name": "stdout",
     "output_type": "stream",
     "text": [
      "WARNING: ROI index (4) has no Contour Sequence.\n",
      "\n",
      "The common ROIs shared by two data are shown below:\n",
      "\n",
      "1: BODY\n",
      "2: Breast\n",
      "4: CTV(Tumor Bed)\n",
      "6: Liver\n",
      "12: ScarMarker\n",
      "13: SmallBowel\n",
      "14: SpinalCord\n",
      "21: BrachialP_R_AiCE\n",
      "22: CTV_SC\n",
      "23: CTV_RF\n",
      "24: CTV\n",
      "25: Lt.breast_AiCE\n",
      "26: both lung_AiCE\n",
      "\n"
     ]
    }
   ],
   "source": [
    "path_1 = data.get_RT_path(root, 0, recon_1, seg_1)  # ID1_Aice_manual\n",
    "path_2 = data.get_RT_path(root, 0, recon_2, seg_2)  # ID1_AIDR_manual\n",
    "\n",
    "structures_1 = data.get_ROI_structures(path_1)\n",
    "contours_1 = data.get_ROI_contours(path_1)\n",
    "\n",
    "structures_2 = data.get_ROI_structures(path_2)\n",
    "contours_2 = data.get_ROI_contours(path_2)\n",
    "\n",
    "total_contours_1 = data.get_contour_data(contours_1)\n",
    "total_contours_2 = data.get_contour_data(contours_2)\n",
    "\n",
    "roi_names_1 = utils.get_ROI_names(path_1)\n",
    "roi_names_2 = utils.get_ROI_names(path_2)\n",
    "\n",
    "matched_ROIs = utils.match_ROIs(roi_names_1, roi_names_2)\n",
    "utils.print_ROI_names(matched_ROIs)"
   ]
  },
  {
   "cell_type": "code",
   "execution_count": null,
   "metadata": {},
   "outputs": [
    {
     "name": "stdout",
     "output_type": "stream",
     "text": [
      "\n",
      "1.0\n"
     ]
    }
   ],
   "source": [
    "ROI_num = 14\n",
    "print()\n",
    "\n",
    "mask_1 = processing.concat_3d(total_contours_1, ROI_num)\n",
    "mask_2 = processing.concat_3d(total_contours_2, ROI_num)\n",
    "\n",
    "result = metrics.dice_coefficient(mask_1, mask_2)\n",
    "print(result)"
   ]
  }
 ],
 "metadata": {
  "kernelspec": {
   "display_name": "torch",
   "language": "python",
   "name": "python3"
  },
  "language_info": {
   "codemirror_mode": {
    "name": "ipython",
    "version": 3
   },
   "file_extension": ".py",
   "mimetype": "text/x-python",
   "name": "python",
   "nbconvert_exporter": "python",
   "pygments_lexer": "ipython3",
   "version": "3.11.8"
  }
 },
 "nbformat": 4,
 "nbformat_minor": 2
}
