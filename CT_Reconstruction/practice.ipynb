{
 "cells": [
  {
   "cell_type": "code",
   "execution_count": 8,
   "metadata": {},
   "outputs": [],
   "source": [
    "import data, utils, processing, metrics\n",
    "from pydicom import dcmread"
   ]
  },
  {
   "cell_type": "code",
   "execution_count": 9,
   "metadata": {},
   "outputs": [
    {
     "name": "stdout",
     "output_type": "stream",
     "text": [
      "===Reference data===\n",
      "Aice_Breast\n",
      "\n",
      "===Comparative data===\n",
      "AIDR_Breast\n",
      "\n"
     ]
    }
   ],
   "source": [
    "root = \"D:/Datasets/CT_Recon/Breast/\"\n",
    "\n",
    "print(\"===Reference data===\")\n",
    "recon_1 = \"Aice\"\n",
    "seg_1 = \"Breast\"\n",
    "print(f\"{recon_1}_{seg_1}\")\n",
    "print()\n",
    "print(\"===Comparative data===\")\n",
    "recon_2 = \"AIDR\"\n",
    "seg_2 = \"Breast\"\n",
    "print(f\"{recon_2}_{seg_2}\")\n",
    "print()"
   ]
  },
  {
   "cell_type": "code",
   "execution_count": 28,
   "metadata": {},
   "outputs": [
    {
     "name": "stdout",
     "output_type": "stream",
     "text": [
      "93\n",
      "262144\n"
     ]
    },
    {
     "data": {
      "text/plain": [
       "262144"
      ]
     },
     "execution_count": 28,
     "metadata": {},
     "output_type": "execute_result"
    }
   ],
   "source": [
    "CT_root1, CT_list1 = data.get_CT_path(root, 0, recon_1, seg_1)\n",
    "CT_root2, CT_list2 = data.get_CT_path(root, 0, recon_2, seg_2)\n",
    "\n",
    "import matplotlib.pyplot as plt\n",
    "ct_path1 = f\"{CT_root1}{CT_list1[60]}\"\n",
    "curr_CT1 = dcmread(ct_path1).pixel_array"
   ]
  },
  {
   "cell_type": "code",
   "execution_count": 29,
   "metadata": {},
   "outputs": [
    {
     "name": "stdout",
     "output_type": "stream",
     "text": [
      "WARNING: ROI index (4) has no Contour Sequence.\n",
      "\n",
      "The common ROIs shared by two data are shown below:\n",
      "1: BODY\n",
      "2: Breast\n",
      "4: CTV(Tumor Bed)\n",
      "6: Liver\n",
      "12: ScarMarker\n",
      "13: SmallBowel\n",
      "14: SpinalCord\n",
      "21: BrachialP_R_AiCE\n",
      "22: CTV_SC\n",
      "23: CTV_RF\n",
      "24: CTV\n",
      "25: Lt.breast_AiCE\n",
      "26: both lung_AiCE\n",
      "\n"
     ]
    }
   ],
   "source": [
    "RT_path_1 = data.get_RT_path(root, 0, recon_1, seg_1)  # ID1_Aice_manual\n",
    "RT_path_2 = data.get_RT_path(root, 0, recon_2, seg_2)  # ID1_AIDR_manual\n",
    "\n",
    "RT_structures_1 = data.get_ROI_structures(RT_path_1)\n",
    "RT_contours_1 = data.get_ROI_contours(RT_path_1)\n",
    "\n",
    "RT_structures_2 = data.get_ROI_structures(RT_path_2)\n",
    "RT_contours_2 = data.get_ROI_contours(RT_path_2)\n",
    "\n",
    "total_contours_1 = data.get_contour_data(RT_contours_1)\n",
    "total_contours_2 = data.get_contour_data(RT_contours_2)\n",
    "\n",
    "roi_names_1 = utils.get_ROI_names(RT_path_1)\n",
    "roi_names_2 = utils.get_ROI_names(RT_path_2)\n",
    "\n",
    "matched_ROIs = utils.match_ROIs(roi_names_1, roi_names_2)\n",
    "utils.print_ROI_names(matched_ROIs)"
   ]
  },
  {
   "cell_type": "code",
   "execution_count": null,
   "metadata": {},
   "outputs": [
    {
     "name": "stdout",
     "output_type": "stream",
     "text": [
      "1800 1200\n"
     ]
    },
    {
     "ename": "IndexError",
     "evalue": "index -89099 is out of bounds for axis 0 with size 1800",
     "output_type": "error",
     "traceback": [
      "\u001b[1;31m---------------------------------------------------------------------------\u001b[0m",
      "\u001b[1;31mIndexError\u001b[0m                                Traceback (most recent call last)",
      "Cell \u001b[1;32mIn[4], line 6\u001b[0m\n\u001b[0;32m      3\u001b[0m \u001b[38;5;28mprint\u001b[39m(\u001b[38;5;28mint\u001b[39m(wx), \u001b[38;5;28mint\u001b[39m(wy))\n\u001b[0;32m      5\u001b[0m \u001b[38;5;28;01mimport\u001b[39;00m \u001b[38;5;21;01mmatplotlib\u001b[39;00m\u001b[38;5;21;01m.\u001b[39;00m\u001b[38;5;21;01mpyplot\u001b[39;00m \u001b[38;5;28;01mas\u001b[39;00m \u001b[38;5;21;01mplt\u001b[39;00m\n\u001b[1;32m----> 6\u001b[0m mapped_image \u001b[38;5;241m=\u001b[39m \u001b[43mprocessing\u001b[49m\u001b[38;5;241;43m.\u001b[39;49m\u001b[43mper_slice_mapping\u001b[49m\u001b[43m(\u001b[49m\u001b[43mtotal_contours_1\u001b[49m\u001b[43m[\u001b[49m\u001b[38;5;241;43m14\u001b[39;49m\u001b[43m]\u001b[49m\u001b[43m[\u001b[49m\u001b[38;5;241;43m0\u001b[39;49m\u001b[43m]\u001b[49m\u001b[43m,\u001b[49m\u001b[43m \u001b[49m\u001b[43m(\u001b[49m\u001b[38;5;28;43mint\u001b[39;49m\u001b[43m(\u001b[49m\u001b[43mwx\u001b[49m\u001b[43m)\u001b[49m\u001b[43m,\u001b[49m\u001b[43m \u001b[49m\u001b[38;5;28;43mint\u001b[39;49m\u001b[43m(\u001b[49m\u001b[43mwy\u001b[49m\u001b[43m)\u001b[49m\u001b[43m)\u001b[49m\u001b[43m,\u001b[49m\u001b[43m \u001b[49m\u001b[43m(\u001b[49m\u001b[38;5;28;43mint\u001b[39;49m\u001b[43m(\u001b[49m\u001b[43mwx\u001b[49m\u001b[38;5;241;43m/\u001b[39;49m\u001b[38;5;241;43m2\u001b[39;49m\u001b[43m)\u001b[49m\u001b[43m,\u001b[49m\u001b[43m \u001b[49m\u001b[38;5;28;43mint\u001b[39;49m\u001b[43m(\u001b[49m\u001b[43mwy\u001b[49m\u001b[38;5;241;43m/\u001b[39;49m\u001b[38;5;241;43m2\u001b[39;49m\u001b[43m)\u001b[49m\u001b[43m)\u001b[49m\u001b[43m,\u001b[49m\u001b[43m \u001b[49m\u001b[38;5;241;43m0.01\u001b[39;49m\u001b[43m)\u001b[49m\n\u001b[0;32m      7\u001b[0m plt\u001b[38;5;241m.\u001b[39mimshow(mapped_image)\n",
      "File \u001b[1;32mc:\\Users\\hyunj\\Downloads\\Deep_Learning\\CT_Reconstruction\\processing.py:32\u001b[0m, in \u001b[0;36mper_slice_mapping\u001b[1;34m(slice_data, w_size, center, spacing)\u001b[0m\n\u001b[0;32m     30\u001b[0m \u001b[38;5;28;01mfor\u001b[39;00m i \u001b[38;5;129;01min\u001b[39;00m \u001b[38;5;28mrange\u001b[39m(\u001b[38;5;28mlen\u001b[39m(x)):\n\u001b[0;32m     31\u001b[0m     x_pos, y_pos \u001b[38;5;241m=\u001b[39m \u001b[38;5;28mint\u001b[39m( (x[i] \u001b[38;5;241m-\u001b[39m center[\u001b[38;5;241m0\u001b[39m]) \u001b[38;5;241m/\u001b[39m spacing ), \u001b[38;5;28mint\u001b[39m( (y[i] \u001b[38;5;241m-\u001b[39m center[\u001b[38;5;241m1\u001b[39m]) \u001b[38;5;241m/\u001b[39m spacing )\n\u001b[1;32m---> 32\u001b[0m     \u001b[43mimage\u001b[49m\u001b[43m[\u001b[49m\u001b[43mx_pos\u001b[49m\u001b[43m,\u001b[49m\u001b[43m \u001b[49m\u001b[43my_pos\u001b[49m\u001b[43m]\u001b[49m \u001b[38;5;241m=\u001b[39m \u001b[38;5;241m1\u001b[39m\n\u001b[0;32m     33\u001b[0m \u001b[38;5;28;01mreturn\u001b[39;00m image\n",
      "\u001b[1;31mIndexError\u001b[0m: index -89099 is out of bounds for axis 0 with size 1800"
     ]
    }
   ],
   "source": [
    "im_size = 512\n",
    "\n",
    "\n",
    "import matplotlib.pyplot as plt\n",
    "mapped_image = processing.per_slice_mapping(total_contours_1[14][0], (int(wx), int(wy)), (int(wx/2), int(wy/2)), 0.01)\n",
    "plt.imshow(mapped_image)"
   ]
  }
 ],
 "metadata": {
  "kernelspec": {
   "display_name": "torch",
   "language": "python",
   "name": "python3"
  },
  "language_info": {
   "codemirror_mode": {
    "name": "ipython",
    "version": 3
   },
   "file_extension": ".py",
   "mimetype": "text/x-python",
   "name": "python",
   "nbconvert_exporter": "python",
   "pygments_lexer": "ipython3",
   "version": "3.11.8"
  }
 },
 "nbformat": 4,
 "nbformat_minor": 2
}
