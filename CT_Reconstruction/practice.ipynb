{
 "cells": [
  {
   "cell_type": "code",
   "execution_count": 1,
   "metadata": {},
   "outputs": [],
   "source": [
    "import data, utils, processing, metrics\n",
    "from pydicom import dcmread"
   ]
  },
  {
   "cell_type": "code",
   "execution_count": 2,
   "metadata": {},
   "outputs": [
    {
     "name": "stdout",
     "output_type": "stream",
     "text": [
      "===Reference data===\n",
      "Aice_Onco\n",
      "\n",
      "===Comparative data===\n",
      "AIDR_Onco\n",
      "\n"
     ]
    }
   ],
   "source": [
    "root = \"D:/Datasets/CT_Recon/Breast/\"\n",
    "\n",
    "print(\"===Reference data===\")\n",
    "recon_1 = \"Aice\"\n",
    "seg_1 = \"Onco\"\n",
    "print(f\"{recon_1}_{seg_1}\")\n",
    "print()\n",
    "print(\"===Comparative data===\")\n",
    "recon_2 = \"AIDR\"\n",
    "seg_2 = \"Onco\"\n",
    "print(f\"{recon_2}_{seg_2}\")\n",
    "print()"
   ]
  },
  {
   "cell_type": "code",
   "execution_count": 3,
   "metadata": {},
   "outputs": [
    {
     "name": "stdout",
     "output_type": "stream",
     "text": [
      "D:/Datasets/CT_Recon/Breast/18928586/Aice/Onco_Aice/RS.18928586.OncoStudioAutoSe.dcm\n",
      "D:/Datasets/CT_Recon/Breast/18928586/AIDR/Onco_AIDR/RS.18928586.OncoStudioAutoSe.dcm\n",
      "WARNING: ROI index (17) has no Contour Sequence.\n",
      "\n",
      "WARNING: ROI index (17) has no Contour Sequence.\n",
      "\n",
      "29: External\n",
      "28: Bowels\n",
      "27: Lungs\n",
      "26: Breast_R\n",
      "25: Breast_L\n",
      "24: Spleen\n",
      "23: Liver_AIDR\n",
      "22: Kidney_R\n",
      "21: Kidney_L\n",
      "20: Gallbladder\n",
      "19: Heart1\n",
      "18: Cavity_Oral\n",
      "17: BrachialP_R_AIDR\n",
      "16: BrachialP_L_AIDR\n",
      "15: Sigmoid_Colon\n",
      "14: Bowel_Small\n",
      "13: Bowel_Large\n",
      "12: Glnd_Submand_R\n",
      "11: Glnd_Submand_L\n",
      "10: Esophagus1\n",
      "9: Stomach1\n",
      "8: Duodenum1\n",
      "7: SpinalCord\n",
      "6: CaudaEquina\n",
      "3: Trachea1\n",
      "2: Glnd_Thyroid\n",
      "1: Parotid_R\n",
      "0: Parotid_L\n",
      "\n",
      "29: External\n",
      "28: Bowels\n",
      "27: Lungs\n",
      "26: Breast_R\n",
      "25: Breast_L\n",
      "24: Spleen\n",
      "23: Liver_AIDR\n",
      "22: Kidney_R\n",
      "21: Kidney_L\n",
      "20: Gallbladder\n",
      "19: Sigmoid_Colon\n",
      "18: Bowel_Small\n",
      "17: Bowel_Large\n",
      "16: BrachialP_R_AIDR\n",
      "15: BrachialP_L_AIDR\n",
      "14: Cavity_Oral\n",
      "13: Heart1\n",
      "12: Glnd_Submand_R\n",
      "11: Glnd_Submand_L\n",
      "10: SpinalCord\n",
      "9: CaudaEquina\n",
      "6: Esophagus1\n",
      "5: Stomach1\n",
      "4: Duodenum1\n",
      "3: Glnd_Thyroid\n",
      "2: Trachea1\n",
      "1: Parotid_R\n",
      "0: Parotid_L\n",
      "\n"
     ]
    }
   ],
   "source": [
    "RT_path_1 = data.get_RT_path(root, 0, recon_1, seg_1)  # ID1_Aice_manual\n",
    "RT_path_2 = data.get_RT_path(root, 0, recon_2, seg_2)  # ID1_AIDR_manual\n",
    "print(RT_path_1)\n",
    "print(RT_path_2)\n",
    "\n",
    "RT_structures_1 = data.get_ROI_structures(RT_path_1)\n",
    "RT_contours_1 = data.get_ROI_contours(RT_path_1)\n",
    "\n",
    "RT_structures_2 = data.get_ROI_structures(RT_path_2)\n",
    "RT_contours_2 = data.get_ROI_contours(RT_path_2)\n",
    "\n",
    "total_contours_1 = data.get_contour_data(RT_contours_1)\n",
    "total_contours_2 = data.get_contour_data(RT_contours_2)\n",
    "\n",
    "roi_names_1 = utils.get_ROI_names(RT_path_1)\n",
    "roi_names_2 = utils.get_ROI_names(RT_path_2)\n",
    "\n",
    "# matched_ROIs = utils.match_ROIs(roi_names_1, roi_names_2)\n",
    "utils.print_ROI_names(roi_names_1)\n",
    "utils.print_ROI_names(roi_names_2)"
   ]
  }
 ],
 "metadata": {
  "kernelspec": {
   "display_name": "torch",
   "language": "python",
   "name": "python3"
  },
  "language_info": {
   "codemirror_mode": {
    "name": "ipython",
    "version": 3
   },
   "file_extension": ".py",
   "mimetype": "text/x-python",
   "name": "python",
   "nbconvert_exporter": "python",
   "pygments_lexer": "ipython3",
   "version": "3.11.8"
  }
 },
 "nbformat": 4,
 "nbformat_minor": 2
}
