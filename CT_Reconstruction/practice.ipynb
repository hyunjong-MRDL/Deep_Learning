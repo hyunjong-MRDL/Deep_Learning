{
 "cells": [
  {
   "cell_type": "code",
   "execution_count": 1,
   "metadata": {},
   "outputs": [],
   "source": [
    "import data, utils, processing, metrics\n",
    "from pydicom import dcmread"
   ]
  },
  {
   "cell_type": "code",
   "execution_count": 2,
   "metadata": {},
   "outputs": [
    {
     "name": "stdout",
     "output_type": "stream",
     "text": [
      "===Reference data===\n",
      "Aice_Onco\n",
      "\n",
      "===Comparative data===\n",
      "AIDR_Onco\n",
      "\n"
     ]
    }
   ],
   "source": [
    "root = \"D:/Datasets/CT_Recon/Breast/\"\n",
    "\n",
    "print(\"===Reference data===\")\n",
    "recon_1 = \"Aice\"\n",
    "seg_1 = \"Onco\"\n",
    "print(f\"{recon_1}_{seg_1}\")\n",
    "print()\n",
    "print(\"===Comparative data===\")\n",
    "recon_2 = \"AIDR\"\n",
    "seg_2 = \"Onco\"\n",
    "print(f\"{recon_2}_{seg_2}\")\n",
    "print()"
   ]
  },
  {
   "cell_type": "code",
   "execution_count": 3,
   "metadata": {},
   "outputs": [
    {
     "name": "stdout",
     "output_type": "stream",
     "text": [
      "D:/Datasets/CT_Recon/Breast/30031951/Aice/Onco_Aice/RS.30031951.OncoStudioAutoSe.dcm D:/Datasets/CT_Recon/Breast/30031951/AIDR/Onco_AIDR/RS.30031951.OncoStudioAutoSe.dcm\n",
      "WARNING: ROI index (13) has no Contour Sequence.\n",
      "\n",
      "The common ROIs shared by two data are shown below:\n",
      "29: External\n",
      "28: Bowels\n",
      "27: Lungs\n",
      "26: Breast_R\n",
      "25: Breast_L\n",
      "24: Spleen\n",
      "23: Liver_AIDR\n",
      "22: Kidney_R\n",
      "21: Kidney_L\n",
      "20: Gallbladder\n",
      "19: Heart1\n",
      "18: BrachialP_R_AIDR\n",
      "17: BrachialP_L_AIDR\n",
      "16: Sigmoid_Colon\n",
      "15: Bowel_Small\n",
      "14: Bowel_Large\n",
      "13: Cavity_Oral\n",
      "12: SpinalCord\n",
      "11: CaudaEquina\n",
      "10: Trachea1\n",
      "9: Esophagus1\n",
      "8: Stomach1\n",
      "7: Duodenum1\n",
      "6: Parotid_R\n",
      "5: Parotid_L\n",
      "4: Glnd_Submand_R\n",
      "3: Glnd_Submand_L\n",
      "2: Lung_R_rf\n",
      "1: Lung_L\n",
      "0: Glnd_Thyroid\n",
      "\n",
      "The common ROIs shared by two data are shown below:\n",
      "29: External\n",
      "28: Bowels\n",
      "27: Lungs\n",
      "26: Breast_R\n",
      "25: Breast_L\n",
      "24: Spleen\n",
      "23: Liver_AIDR\n",
      "22: Kidney_R\n",
      "21: Kidney_L\n",
      "20: Gallbladder\n",
      "19: BrachialP_R_AIDR\n",
      "18: BrachialP_L_AIDR\n",
      "17: Heart1\n",
      "16: Sigmoid_Colon\n",
      "15: Bowel_Small\n",
      "14: Bowel_Large\n",
      "13: Cavity_Oral\n",
      "12: Trachea1\n",
      "11: SpinalCord\n",
      "10: CaudaEquina\n",
      "9: Parotid_R\n",
      "8: Parotid_L\n",
      "7: Glnd_Submand_R\n",
      "6: Glnd_Submand_L\n",
      "5: Esophagus1\n",
      "4: Stomach1\n",
      "3: Duodenum1\n",
      "2: Glnd_Thyroid\n",
      "1: Lung_R_rf\n",
      "0: Lung_L\n",
      "\n"
     ]
    }
   ],
   "source": [
    "RT_path_1 = data.get_RT_path(root, 2, recon_1, seg_1)  # ID1_Aice_manual\n",
    "RT_path_2 = data.get_RT_path(root, 2, recon_2, seg_2)  # ID1_AIDR_manual\n",
    "print(RT_path_1, RT_path_2)\n",
    "\n",
    "RT_structures_1 = data.get_ROI_structures(RT_path_1)\n",
    "RT_contours_1 = data.get_ROI_contours(RT_path_1)\n",
    "\n",
    "RT_structures_2 = data.get_ROI_structures(RT_path_2)\n",
    "RT_contours_2 = data.get_ROI_contours(RT_path_2)\n",
    "\n",
    "total_contours_1 = data.get_contour_data(RT_contours_1)\n",
    "total_contours_2 = data.get_contour_data(RT_contours_2)\n",
    "\n",
    "roi_names_1 = utils.get_ROI_names(RT_path_1)\n",
    "roi_names_2 = utils.get_ROI_names(RT_path_2)\n",
    "\n",
    "matched_ROIs = utils.match_ROIs(roi_names_1, roi_names_2)\n",
    "utils.print_ROI_names(roi_names_1)\n",
    "utils.print_ROI_names(roi_names_2)"
   ]
  },
  {
   "cell_type": "code",
   "execution_count": 5,
   "metadata": {},
   "outputs": [
    {
     "data": {
      "text/plain": [
       "(<Axes: >, <matplotlib.image.AxesImage at 0x1cc67eaaf50>)"
      ]
     },
     "execution_count": 5,
     "metadata": {},
     "output_type": "execute_result"
    },
    {
     "data": {
      "image/png": "[encoded data removed]",
      "text/plain": [
       "<Figure size 640x480 with 2 Axes>"
      ]
     },
     "metadata": {},
     "output_type": "display_data"
    }
   ],
   "source": [
    "im_size = 256\n",
    "\n",
    "ROI_num = 14\n",
    "slice_num = 0\n",
    "import matplotlib.pyplot as plt\n",
    "map1 = processing.per_slice_mapping(total_contours_1[ROI_num][slice_num], im_size, (10, 100), 0.4)\n",
    "map2 = processing.per_slice_mapping(total_contours_2[ROI_num][slice_num], im_size, (10, 100), 0.4)\n",
    "plt.subplot(121), plt.imshow(map1)\n",
    "plt.subplot(122), plt.imshow(map2)"
   ]
  }
 ],
 "metadata": {
  "kernelspec": {
   "display_name": "torch",
   "language": "python",
   "name": "python3"
  },
  "language_info": {
   "codemirror_mode": {
    "name": "ipython",
    "version": 3
   },
   "file_extension": ".py",
   "mimetype": "text/x-python",
   "name": "python",
   "nbconvert_exporter": "python",
   "pygments_lexer": "ipython3",
   "version": "3.11.8"
  }
 },
 "nbformat": 4,
 "nbformat_minor": 2
}
